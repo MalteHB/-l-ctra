{
 "cells": [
  {
   "cell_type": "code",
   "execution_count": null,
   "metadata": {
    "tags": []
   },
   "outputs": [],
   "source": [
    "#!pip install tensorflow==1.15\n",
    "#!pip install transformers==2.8.0"
   ]
  },
  {
   "cell_type": "code",
   "execution_count": null,
   "metadata": {
    "tags": []
   },
   "outputs": [],
   "source": [
    "import os\n",
    "import json\n",
    "from transformers import AutoTokenizer"
   ]
  },
  {
   "cell_type": "code",
   "execution_count": null,
   "metadata": {},
   "outputs": [],
   "source": [
    "os.chdir(\"/bachelor_project\")\n",
    "os.getcwd()"
   ]
  },
  {
   "cell_type": "code",
   "execution_count": null,
   "metadata": {},
   "outputs": [],
   "source": [
    "DATA_DIR = \"/bachelor_project/models/ælæctra_uncased_32k\" #@param {type: \"string\"}\n",
    "MODEL_NAME = \"ælæctra_uncased_32k\" #@param {type: \"string\"}"
   ]
  },
  {
   "cell_type": "code",
   "execution_count": null,
   "metadata": {
    "tags": []
   },
   "outputs": [],
   "source": [
    "# Save the pretrained WordPiece tokenizer to get `vocab.txt`\n",
    "#tokenizer = AutoTokenizer.from_pretrained(\"bert-base-multilingual-cased\")\n",
    "#tokenizer.save_pretrained(DATA_DIR)"
   ]
  },
  {
   "cell_type": "markdown",
   "metadata": {},
   "source": [
    "# THE NEXT STEP TAKES AROUND 15 HOURS TO COMPLETE WITH 13GB DATA AND HAS TO BE RUN PRIOR TO ANY PRETRAINING"
   ]
  },
  {
   "cell_type": "code",
   "execution_count": null,
   "metadata": {},
   "outputs": [],
   "source": [
    "#docker exec -w /bachelor_project/electra_google gpu_0_electra python3 -u build_pretraining_dataset.py --corpus-dir /bachelor_project/data/training_data --vocab-file /bachelor_project/models/ælæctra_uncased_32k/vocab.txt --output-dir /bachelor_project/models/ælæctra_uncased_32k/pretrain_tfrecords --max-seq-length 128 --blanks-separate-docs False --do-lower-case --num-processes 6"
   ]
  },
  {
   "cell_type": "markdown",
   "metadata": {
    "tags": []
   },
   "source": [
    "!python3 build_pretraining_dataset.py \\\n",
    "  --corpus-dir $DATA_DIR \\\n",
    "  --vocab-file $DATA_DIR/vocab.txt \\\n",
    "  --output-dir $DATA_DIR/pretrain_tfrecords \\\n",
    "  --max-seq-length 128 \\\n",
    "  --blanks-separate-docs False \\\n",
    "  --no-lower-case \\\n",
    "  --num-processes 6"
   ]
  },
  {
   "cell_type": "code",
   "execution_count": null,
   "metadata": {},
   "outputs": [],
   "source": [
    "hparams = {\n",
    "    \"do_train\": \"true\",\n",
    "    \"do_eval\": \"false\",\n",
    "    \"model_size\": \"small\",\n",
    "    \"do_lower_case\": \"true\",\n",
    "    \"vocab_size\": 32000,\n",
    "    \"num_train_steps\": 1e6,\n",
    "    \"save_checkpoints_steps\": 100000,\n",
    "    \"train_batch_size\": 128,\n",
    "}\n",
    "           \n",
    "with open(\"/bachelor_project/models/ælæctra_uncased_32k/hparams.json\", \"w\") as f:\n",
    "    json.dump(hparams, f)"
   ]
  },
  {
   "cell_type": "code",
   "execution_count": null,
   "metadata": {},
   "outputs": [],
   "source": [
    "#docker exec -w /bachelor_project gpu_0_electra python3 -u /bachelor_project/electra_google/run_pretraining.py --data-dir /bachelor_project/models/uncased_32k_danish_data --model-name ælæctra_uncased_32k --hparams \"/bachelor_project/models/ælæctra_uncased_32k/hparams.json\""
   ]
  },
  {
   "cell_type": "code",
   "execution_count": null,
   "metadata": {},
   "outputs": [],
   "source": [
    "#tensorboard --logdir=/bachelor_project/models/ælæctra_uncased_32k/models/ælæctra_uncased_32k --host localhost --port 8088"
   ]
  },
  {
   "cell_type": "markdown",
   "metadata": {
    "tags": []
   },
   "source": [
    "!python3 run_pretraining.py \\\n",
    "  --data-dir $DATA_DIR \\\n",
    "  --model-name $MODEL_NAME \\\n",
    "  --hparams \"hparams.json\""
   ]
  },
  {
   "cell_type": "markdown",
   "metadata": {
    "tags": []
   },
   "source": [
    "!git clone https://github.com/lonePatient/electra_pytorch.git"
   ]
  },
  {
   "cell_type": "code",
   "execution_count": null,
   "metadata": {},
   "outputs": [],
   "source": [
    "MODEL_DIR = \"/bachelor_project/models/ælæctra_uncased_32k/models/ælæctra_uncased_32k/\"\n",
    "\n",
    "config = {\n",
    "  \"vocab_size\": 32000,\n",
    "  \"embedding_size\": 128,\n",
    "  \"hidden_size\": 256,\n",
    "  \"num_hidden_layers\": 12,\n",
    "  \"num_attention_heads\": 4,\n",
    "  \"intermediate_size\": 1024,\n",
    "  \"generator_size\": \"0.25\",\n",
    "  \"hidden_act\": \"gelu\",\n",
    "  \"hidden_dropout_prob\": 0.1,\n",
    "  \"attention_probs_dropout_prob\": 0.1,\n",
    "  \"max_position_embeddings\": 512,\n",
    "  \"type_vocab_size\": 2,\n",
    "  \"initializer_range\": 0.02\n",
    "}\n",
    "\n",
    "with open(MODEL_DIR + \"config.json\", \"w\") as f:\n",
    "    json.dump(config, f)"
   ]
  },
  {
   "cell_type": "code",
   "execution_count": null,
   "metadata": {
    "tags": [
     "outputPrepend"
    ]
   },
   "outputs": [],
   "source": [
    "!python electra_pytorch/convert_electra_tf_checkpoint_to_pytorch.py \\\n",
    "    --tf_checkpoint_path=$MODEL_DIR \\\n",
    "    --electra_config_file=$MODEL_DIR/config.json \\\n",
    "    --pytorch_dump_path=$MODEL_DIR/pytorch_model.bin"
   ]
  },
  {
   "cell_type": "code",
   "execution_count": null,
   "metadata": {
    "tags": []
   },
   "outputs": [],
   "source": [
    "import torch\n",
    "from transformers import ElectraForPreTraining, ElectraTokenizerFast\n",
    "\n",
    "discriminator = ElectraForPreTraining.from_pretrained(MODEL_DIR)\n",
    "tokenizer = ElectraTokenizerFast.from_pretrained(MODEL_DIR, do_lower_case=True)\n"
   ]
  },
  {
   "cell_type": "code",
   "execution_count": null,
   "metadata": {
    "tags": []
   },
   "outputs": [],
   "source": [
    "sentence = \"Fuglene synger\" # The birds are singing\n",
    "fake_sentence = \"Fuglene taler\" # The birds are speaking \n",
    "\n",
    "fake_tokens = tokenizer.tokenize(fake_sentence, add_special_tokens=True)\n",
    "fake_inputs = tokenizer.encode(fake_sentence, return_tensors=\"pt\")\n",
    "discriminator_outputs = discriminator(fake_inputs)\n",
    "predictions = discriminator_outputs[0] > 0\n",
    "\n",
    "[print(\"%7s\" % token, end=\"\") for token in fake_tokens]\n",
    "print(\"\\n\")\n",
    "[print(\"%7s\" % int(prediction), end=\"\") for prediction in predictions.tolist()];"
   ]
  },
  {
   "cell_type": "code",
   "execution_count": null,
   "metadata": {
    "tags": []
   },
   "outputs": [],
   "source": [
    "discriminator.num_parameters()"
   ]
  },
  {
   "cell_type": "code",
   "execution_count": null,
   "metadata": {},
   "outputs": [],
   "source": []
  }
 ],
 "metadata": {
  "kernelspec": {
   "display_name": "Python 3.6.9 64-bit",
   "metadata": {
    "interpreter": {
     "hash": "4cd7ab41f5fca4b9b44701077e38c5ffd31fe66a6cab21e0214b68d958d0e462"
    }
   },
   "name": "Python 3.6.9 64-bit"
  },
  "language_info": {
   "codemirror_mode": {
    "name": "ipython",
    "version": 3
   },
   "file_extension": ".py",
   "mimetype": "text/x-python",
   "name": "python",
   "nbconvert_exporter": "python",
   "pygments_lexer": "ipython3",
   "version": "3.6.9-final"
  }
 },
 "nbformat": 4,
 "nbformat_minor": 2
}
