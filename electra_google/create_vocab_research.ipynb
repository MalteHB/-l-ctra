{
 "cells": [
  {
   "cell_type": "code",
   "execution_count": null,
   "metadata": {},
   "outputs": [],
   "source": [
    "from tokenizers import BertWordPieceTokenizer\n",
    "import os\n"
   ]
  },
  {
   "cell_type": "code",
   "execution_count": null,
   "metadata": {},
   "outputs": [],
   "source": [
    "os.chdir(\"../\")\n",
    "os.listdir()"
   ]
  },
  {
   "cell_type": "code",
   "execution_count": null,
   "metadata": {},
   "outputs": [],
   "source": [
    "tokenizer = BertWordPieceTokenizer(\n",
    "    clean_text=True, \n",
    "    handle_chinese_chars=False,\n",
    "    strip_accents=False,\n",
    "    lowercase=False, \n",
    ")\n",
    "\n",
    "trainer = tokenizer.train( \n",
    "    \"/bachelor_project/data/sentences.txt\",\n",
    "    vocab_size=32000,\n",
    "    min_frequency=2,\n",
    "    show_progress=True,\n",
    "    special_tokens=['[PAD]', '[UNK]', '[CLS]', '[SEP]', '[MASK]'],\n",
    "    limit_alphabet=1000,\n",
    "    wordpieces_prefix=\"##\"\n",
    ")\n",
    "\n",
    "tokenizer.save(\"vocabs/\", \"cased_32k\")"
   ]
  },
  {
   "cell_type": "code",
   "execution_count": null,
   "metadata": {},
   "outputs": [],
   "source": [
    "tokenizer = BertWordPieceTokenizer(\n",
    "    clean_text=True,\n",
    "    handle_chinese_chars=False,\n",
    "    strip_accents=False,  # We need to investigate that further (stripping helps?)\n",
    "    lowercase=True,\n",
    ")\n",
    "\n",
    "trainer = tokenizer.train(\n",
    "    \"/bachelor_project/data/sentences.txt\",\n",
    "    vocab_size=32000,\n",
    "    min_frequency=2,\n",
    "    show_progress=True,\n",
    "    special_tokens=['[PAD]', '[UNK]', '[CLS]', '[SEP]', '[MASK]'],\n",
    "    limit_alphabet=1000,\n",
    "    wordpieces_prefix=\"##\"\n",
    ")\n",
    "\n",
    "tokenizer.save(\"vocabs/\", \"uncased_32\")"
   ]
  }
 ],
 "metadata": {
  "kernelspec": {
   "display_name": "Python 3.6.9 64-bit",
   "metadata": {
    "interpreter": {
     "hash": "4cd7ab41f5fca4b9b44701077e38c5ffd31fe66a6cab21e0214b68d958d0e462"
    }
   },
   "name": "Python 3.6.9 64-bit"
  },
  "language_info": {
   "codemirror_mode": {
    "name": "ipython",
    "version": 3
   },
   "file_extension": ".py",
   "mimetype": "text/x-python",
   "name": "python",
   "nbconvert_exporter": "python",
   "pygments_lexer": "ipython3",
   "version": "3.6.9-final"
  }
 },
 "nbformat": 4,
 "nbformat_minor": 2
}
