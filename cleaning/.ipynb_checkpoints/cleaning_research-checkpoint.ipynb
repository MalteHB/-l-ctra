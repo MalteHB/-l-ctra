{
 "cells": [
  {
   "cell_type": "code",
   "execution_count": null,
   "metadata": {},
   "outputs": [],
   "source": [
    "import pandas as pd\n",
    "import os\n",
    "from sklearn.model_selection import train_test_split"
   ]
  },
  {
   "cell_type": "code",
   "execution_count": null,
   "metadata": {},
   "outputs": [],
   "source": [
    "os.getcwd()\n",
    "os.chdir(\"c:\\\\Users\\\\sysadmin\\\\projects\\\\bachelor_project\")\n",
    "os.getcwd()"
   ]
  },
  {
   "cell_type": "code",
   "execution_count": null,
   "metadata": {},
   "outputs": [],
   "source": [
    "data_directory = os.path.join(\"data\", \"dagw-master\", \"sektioner\")\n",
    "data_directory"
   ]
  },
  {
   "cell_type": "code",
   "execution_count": null,
   "metadata": {
    "tags": []
   },
   "outputs": [],
   "source": [
    "filenames = []\n",
    "text = []\n",
    "sentences = []\n",
    "\n",
    "for dir in os.listdir(data_directory):\n",
    "\n",
    "    tmp_data_directory = os.path.join(data_directory, dir)\n",
    "\n",
    "    print(\"Current textfolder being processed:\", dir)\n",
    "\n",
    "\n",
    "    for filename in os.listdir(tmp_data_directory):\n",
    "\n",
    "\n",
    "        if not filename.endswith(\".jsonl\") and \"LICENSE\" not in filename: \n",
    "\n",
    "\n",
    "            with open(os.path.join(tmp_data_directory, filename), \"r\", encoding = \"utf8\") as f:\n",
    "\n",
    "                filenames.append(filename)\n",
    "\n",
    "                texts = f.readlines()\n",
    "\n",
    "                sentences.extend(texts)\n",
    "                \n",
    "    print(\"Done processing the textfolder:\", dir)"
   ]
  },
  {
   "cell_type": "code",
   "execution_count": null,
   "metadata": {},
   "outputs": [],
   "source": [
    "train, test = train_test_split(sentences, test_size=0.1)"
   ]
  },
  {
   "cell_type": "code",
   "execution_count": null,
   "metadata": {},
   "outputs": [],
   "source": [
    "with open(os.path.join(\"data\", \"train.txt\"), \"w\", encoding=\"utf8\") as f:\n",
    "    for line in train:\n",
    "        f.write(line)\n",
    "\n",
    "with open(os.path.join(\"data\", \"test.txt\"), \"w\", encoding=\"utf8\") as f:\n",
    "    for line in test:\n",
    "        f.write(line)"
   ]
  },
  {
   "cell_type": "code",
   "execution_count": null,
   "metadata": {},
   "outputs": [],
   "source": [
    "df = pd.read_csv(\"data/epo_newscrawl_2017_10K-sentences.txt\", delimiter=\"\\t\", header=None)\n",
    "df.columns = [\"id\", \"text\"]\n",
    "df"
   ]
  },
  {
   "cell_type": "code",
   "execution_count": null,
   "metadata": {},
   "outputs": [],
   "source": [
    "texts = df.text.tolist()\n",
    "texts[0]"
   ]
  },
  {
   "cell_type": "code",
   "execution_count": null,
   "metadata": {},
   "outputs": [],
   "source": [
    "texts = [t for t in texts if isinstance(t, str)]\n",
    "texts[0]\n",
    "for line in texts:\n",
    "    print(line +\"\\n\")"
   ]
  },
  {
   "cell_type": "code",
   "execution_count": null,
   "metadata": {},
   "outputs": [],
   "source": [
    "train2, test2 = train_test_split(texts, test_size=0.1)\n",
    "\n",
    "with open(\"train2.txt\", \"w\", encoding=\"utf8\") as f:\n",
    "    for line in train2:\n",
    "        f.write(line + \"\\n\")\n",
    "\n",
    "with open(\"test2.txt\", \"w\", encoding=\"utf8\") as f:\n",
    "    for line in test2:\n",
    "        f.write(line + \"\\n\")"
   ]
  }
 ],
 "metadata": {
  "kernelspec": {
   "display_name": "Python 3",
   "language": "python",
   "name": "python3"
  },
  "language_info": {
   "codemirror_mode": {
    "name": "ipython",
    "version": 3
   },
   "file_extension": ".py",
   "mimetype": "text/x-python",
   "name": "python",
   "nbconvert_exporter": "python",
   "pygments_lexer": "ipython3",
   "version": "3.7.9"
  }
 },
 "nbformat": 4,
 "nbformat_minor": 2
}
