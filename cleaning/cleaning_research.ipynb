{
 "cells": [
  {
   "cell_type": "code",
   "execution_count": null,
   "metadata": {
    "tags": []
   },
   "outputs": [],
   "source": [
    "import pandas as pd\n",
    "import os\n",
    "from sklearn.model_selection import train_test_split\n",
    "import nltk\n",
    "nltk.download('punkt')"
   ]
  },
  {
   "cell_type": "code",
   "execution_count": null,
   "metadata": {},
   "outputs": [],
   "source": [
    "os.getcwd()\n",
    "os.chdir(\"/Ælæctra\")\n",
    "os.getcwd()"
   ]
  },
  {
   "cell_type": "code",
   "execution_count": null,
   "metadata": {},
   "outputs": [],
   "source": [
    "data_directory = os.path.join(\"data\", \"dagw-master\", \"sektioner\")\n",
    "data_directory"
   ]
  },
  {
   "cell_type": "code",
   "execution_count": null,
   "metadata": {
    "tags": []
   },
   "outputs": [],
   "source": [
    "filenames = []\n",
    "text = []\n",
    "sentences = []\n",
    "sent_tokenizer = nltk.data.load('tokenizers/punkt/danish.pickle')\n",
    "unwanted_text = []#\"botxt\"\n",
    "\n",
    "for dir in os.listdir(data_directory):\n",
    "\n",
    "    if dir == unwanted_text:\n",
    "        continue \n",
    "    else:\n",
    "\n",
    "        tmp_data_directory = os.path.join(data_directory, dir)\n",
    "\n",
    "\n",
    "        print(\"Current textfolder being processed:\", dir)\n",
    "\n",
    "\n",
    "        for filename in os.listdir(tmp_data_directory):\n",
    "\n",
    "\n",
    "            if not filename.endswith(\".jsonl\") and \"LICENSE\" not in filename: \n",
    "\n",
    "\n",
    "                with open(os.path.join(tmp_data_directory, filename), \"r\", encoding = \"utf8\") as f:\n",
    "\n",
    "                    text = f.read().replace(\"\\n\", \" \")\n",
    "\n",
    "                    #print(sent_tokenizer.tokenize(text))\n",
    "\n",
    "                    sentences.extend(sent_tokenizer.tokenize(text))\n",
    "\n",
    "        print(\"Done processing the textfolder:\", dir)"
   ]
  },
  {
   "cell_type": "code",
   "execution_count": null,
   "metadata": {
    "tags": []
   },
   "outputs": [],
   "source": [
    "print(\"Writing sentences.txt...\")\n",
    "with open(os.path.join(\"data\", \"sentences.txt\"), \"w\", encoding=\"utf-8\") as f:\n",
    "    for line in sentences:\n",
    "        f.write(line + \"\\n\")\n",
    "print(\"Done writing sentences.txt!\")"
   ]
  },
  {
   "cell_type": "code",
   "execution_count": null,
   "metadata": {
    "tags": []
   },
   "outputs": [],
   "source": [
    "!head -n 10000 data/sentences.txt > data/train_test.txt"
   ]
  },
  {
   "cell_type": "code",
   "execution_count": null,
   "metadata": {
    "tags": []
   },
   "outputs": [],
   "source": [
    "train, test = train_test_split(sentences, test_size=0.1)"
   ]
  },
  {
   "cell_type": "code",
   "execution_count": null,
   "metadata": {
    "tags": []
   },
   "outputs": [],
   "source": [
    "print(\"Writing train.txt...\")\n",
    "with open(os.path.join(\"data\", \"train.txt\"), \"w\", encoding=\"utf8\") as f:\n",
    "    for line in train:\n",
    "        f.write(line + \"\\n\")\n",
    "print(\"Done writing train.txt!\")\n",
    "\n",
    "print(\"Writing test.txt...\")\n",
    "with open(os.path.join(\"data\", \"test.txt\"), \"w\", encoding=\"utf8\") as f:\n",
    "    for line in test:\n",
    "        f.write(line + \"\\n\")\n",
    "print(\"Done writing test.txt!\")\n"
   ]
  }
 ],
 "metadata": {
  "kernelspec": {
   "display_name": "Python 3",
   "language": "python",
   "name": "python3"
  },
  "language_info": {
   "codemirror_mode": {
    "name": "ipython",
    "version": 3
   },
   "file_extension": ".py",
   "mimetype": "text/x-python",
   "name": "python",
   "nbconvert_exporter": "python",
   "pygments_lexer": "ipython3",
   "version": "3.8.2-final"
  }
 },
 "nbformat": 4,
 "nbformat_minor": 2
}
